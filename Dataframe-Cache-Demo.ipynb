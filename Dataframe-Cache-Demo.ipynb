{
 "cells": [
  {
   "cell_type": "code",
   "execution_count": 0,
   "metadata": {
    "application/vnd.databricks.v1+cell": {
     "cellMetadata": {
      "byteLimit": 2048000,
      "rowLimit": 10000
     },
     "inputWidgets": {},
     "nuid": "928ae044-e7b1-4688-9ced-4d30dcc8985f",
     "showTitle": false,
     "tableResultSettingsMap": {},
     "title": ""
    }
   },
   "outputs": [],
   "source": [
    "import os\n",
    "import pandas as pd\n",
    "import numpy as np\n",
    "\n",
    "from pyspark import SparkConf, SparkContext\n",
    "from pyspark.sql import SparkSession, SQLContext\n",
    "\n",
    "from pyspark.sql.types import *\n",
    "from pyspark.sql.window import Window\n",
    "\n",
    "import pyspark.sql.functions as F\n",
    "from pyspark.sql.functions import udf, col"
   ]
  },
  {
   "cell_type": "code",
   "execution_count": 0,
   "metadata": {
    "application/vnd.databricks.v1+cell": {
     "cellMetadata": {
      "byteLimit": 2048000,
      "rowLimit": 10000
     },
     "inputWidgets": {},
     "nuid": "0df52b39-6c7c-4536-8bf1-e67d686e9129",
     "showTitle": false,
     "tableResultSettingsMap": {},
     "title": ""
    }
   },
   "outputs": [],
   "source": [
    "spark.conf.set(\"spark.sql.adaptive.enabled\", \"false\")\n",
    "customers_df = spark.read.parquet(\"/FileStore/retail/customers.parquet\")\n",
    "\n",
    "departments_df = spark.read.parquet(\"/FileStore/retail/departments.parquet\")\n",
    "categories_df = spark.read.parquet(\"/FileStore/retail/categories.parquet\")\n",
    "products_df = spark.read.parquet(\"/FileStore/retail/products.parquet\")\n",
    "orders_df = spark.read.parquet(\"/FileStore/retail/orders.parquet\")\n",
    "order_items_df = spark.read.parquet(\"/FileStore/retail/order_items.parquet\")\n",
    "customers_df.show()"
   ]
  },
  {
   "cell_type": "code",
   "execution_count": 0,
   "metadata": {
    "application/vnd.databricks.v1+cell": {
     "cellMetadata": {
      "byteLimit": 2048000,
      "rowLimit": 10000
     },
     "inputWidgets": {},
     "nuid": "d29613fe-d5be-47c0-b879-9928406f4d58",
     "showTitle": false,
     "tableResultSettingsMap": {},
     "title": ""
    }
   },
   "outputs": [],
   "source": [
    "customers_df.createOrReplaceTempView(\"customers\")\n",
    "departments_df.createOrReplaceTempView(\"departments\")\n",
    "categories_df.createOrReplaceTempView(\"categories\")\n",
    "products_df.createOrReplaceTempView(\"products\")\n",
    "orders_df.createOrReplaceTempView(\"orders\")\n",
    "order_items_df.createOrReplaceTempView(\"order_items\")\n"
   ]
  },
  {
   "cell_type": "code",
   "execution_count": 0,
   "metadata": {
    "application/vnd.databricks.v1+cell": {
     "cellMetadata": {
      "byteLimit": 2048000,
      "rowLimit": 10000
     },
     "inputWidgets": {},
     "nuid": "0bd32c35-bc09-4f09-9e57-1449c9a7b406",
     "showTitle": false,
     "tableResultSettingsMap": {},
     "title": ""
    }
   },
   "outputs": [],
   "source": [
    "avg_rev_per_day = (orders_df.join(order_items_df, orders_df.order_id == order_items_df.order_item_order_id)\n",
    "     .select(['order_date', 'order_item_subtotal', 'order_item_order_id'])\n",
    "     .groupBy('order_date')\n",
    "     .agg((F.sum('order_item_subtotal') / F.countDistinct('order_item_order_id')).alias('avg_rev_per_day'))\n",
    "     .orderBy('order_date'))\n",
    "\n",
    "df = avg_rev_per_day\n",
    "df1 = avg_rev_per_day\n",
    "df2 = avg_rev_per_day\n",
    "\n",
    "#avg_rev_per_day.cache()\n",
    "#avg_rev_per_day.persist()\n",
    "import pyspark\n",
    "\n",
    "avg_rev_per_day.persist(pyspark.StorageLevel.MEMORY_ONLY)\n",
    "#avg_rev_per_day.persist(pyspark.StorageLevel.DISK_ONLY)\n",
    "print(avg_rev_per_day.storageLevel)\n",
    "\n",
    "\n",
    "\n",
    "avg_rev_per_day.show()\n",
    "avg_rev_per_day.write.mode(\"overwrite\").parquet(\"./FileStore/retail/avg_rev_per_month\")"
   ]
  },
  {
   "cell_type": "code",
   "execution_count": 0,
   "metadata": {
    "application/vnd.databricks.v1+cell": {
     "cellMetadata": {
      "byteLimit": 2048000,
      "rowLimit": 10000
     },
     "inputWidgets": {},
     "nuid": "7e06e988-b9af-4ec3-88c6-6df5344af52c",
     "showTitle": false,
     "tableResultSettingsMap": {},
     "title": ""
    }
   },
   "outputs": [],
   "source": [
    "avg_rev_per_day.unpersist()"
   ]
  },
  {
   "cell_type": "code",
   "execution_count": 0,
   "metadata": {
    "application/vnd.databricks.v1+cell": {
     "cellMetadata": {
      "byteLimit": 2048000,
      "rowLimit": 10000
     },
     "inputWidgets": {},
     "nuid": "daddd7c9-a53f-401b-a9ce-c0c8165d5d8f",
     "showTitle": false,
     "tableResultSettingsMap": {},
     "title": ""
    }
   },
   "outputs": [],
   "source": [
    "avg_rev_per_month = (df\n",
    "                     .select(F.month('order_date').alias('month'), 'avg_rev_per_day')\n",
    "                     .groupBy('month')\n",
    "                     .agg(F.avg('avg_rev_per_day').alias('avg_rev_per_month'))\n",
    "                     .orderBy('month'))\n",
    "avg_rev_per_month.count()\n",
    "#avg_rev_per_month.explain(True)\n"
   ]
  },
  {
   "cell_type": "code",
   "execution_count": 0,
   "metadata": {
    "application/vnd.databricks.v1+cell": {
     "cellMetadata": {
      "byteLimit": 2048000,
      "rowLimit": 10000
     },
     "inputWidgets": {},
     "nuid": "7b8204c6-0d65-41b4-8f60-6476d41aea7a",
     "showTitle": false,
     "tableResultSettingsMap": {},
     "title": ""
    }
   },
   "outputs": [],
   "source": [
    "avg_rev_per_month.toPandas().plot.bar(x='month', title='Average Revenue Per Month');\n"
   ]
  },
  {
   "cell_type": "code",
   "execution_count": 0,
   "metadata": {
    "application/vnd.databricks.v1+cell": {
     "cellMetadata": {
      "byteLimit": 2048000,
      "rowLimit": 10000
     },
     "inputWidgets": {},
     "nuid": "7aa74d9d-a5fe-4582-aa41-4550b3ec74c5",
     "showTitle": false,
     "tableResultSettingsMap": {},
     "title": ""
    }
   },
   "outputs": [],
   "source": [
    "import re\n",
    "\n",
    "def strip_margin(text):\n",
    "    nomargin = re.sub('\\n[ \\t]*\\|', ' ', text)\n",
    "    trimmed = re.sub('\\s+', ' ', nomargin)\n",
    "    return trimmed"
   ]
  },
  {
   "cell_type": "code",
   "execution_count": 0,
   "metadata": {
    "application/vnd.databricks.v1+cell": {
     "cellMetadata": {
      "byteLimit": 2048000,
      "rowLimit": 10000
     },
     "inputWidgets": {},
     "nuid": "cc51d77b-7f64-4b0c-b88c-bfdedc035b0f",
     "showTitle": false,
     "tableResultSettingsMap": {},
     "title": ""
    }
   },
   "outputs": [],
   "source": [
    "#Get the revenue for each Category Per Year Per Quarter\n",
    "\n",
    "rev_cat_qt_df = (spark.sql(strip_margin(\n",
    "            \"\"\"SELECT c.category_name, YEAR(o.order_date) as order_year, CONCAT('Q', QUARTER(o.order_date)) as order_quarter, order_item_subtotal\n",
    "              |FROM orders o \n",
    "              |INNER JOIN order_items oi on order_item_order_id = o.order_id\n",
    "              |INNER JOIN products p on oi.order_item_product_id = p.product_id \n",
    "              |INNER JOIN categories c on p.product_category_id = c.category_id\n",
    "              |WHERE o.order_status <> 'CANCELED' AND o.order_status <> 'SUSPECTED_FRAUD'\"\"\")))\n",
    "rev_cat_qt_df.cache()\n",
    "rev_cat_qt_df.count()\n"
   ]
  },
  {
   "cell_type": "code",
   "execution_count": 0,
   "metadata": {
    "application/vnd.databricks.v1+cell": {
     "cellMetadata": {
      "byteLimit": 2048000,
      "rowLimit": 10000
     },
     "inputWidgets": {},
     "nuid": "8313578b-38a5-4eee-8ec0-849e905de1d7",
     "showTitle": false,
     "tableResultSettingsMap": {},
     "title": ""
    }
   },
   "outputs": [],
   "source": [
    "rev_cat_qt_df.unpersist()"
   ]
  },
  {
   "cell_type": "code",
   "execution_count": 0,
   "metadata": {
    "application/vnd.databricks.v1+cell": {
     "cellMetadata": {
      "byteLimit": 2048000,
      "rowLimit": 10000
     },
     "inputWidgets": {},
     "nuid": "b2c7976d-e3ba-474f-8160-e83adf05fcb1",
     "showTitle": false,
     "tableResultSettingsMap": {},
     "title": ""
    }
   },
   "outputs": [],
   "source": [
    "rev_cat_qt_pivot_df = (rev_cat_qt_df\n",
    "              .groupBy('category_name', 'order_year')\n",
    "              .pivot('order_quarter', ['Q1', 'Q2', 'Q3', 'Q4']) # specifying the unique values (if we know) for pivot column makes execution faster\n",
    "              .agg(F.round(F.sum('order_item_subtotal'), 2))\n",
    "              .withColumn('total_sales', F.round(F.coalesce(col('Q1'), F.lit(0)) + F.coalesce(col('Q2'), F.lit(0)) + F.coalesce(col('Q3'), F.lit(0)) + F.coalesce(col('Q4'), F.lit(0)), 2))\n",
    "              .orderBy('total_sales', ascending=False))\n",
    "\n",
    "rev_cat_qt_pivot_df.show()"
   ]
  }
 ],
 "metadata": {
  "application/vnd.databricks.v1+notebook": {
   "dashboards": [],
   "environmentMetadata": null,
   "language": "python",
   "notebookMetadata": {
    "pythonIndentUnit": 2
   },
   "notebookName": "Dataframe-Cache-Demo",
   "widgets": {}
  },
  "language_info": {
   "name": "python"
  }
 },
 "nbformat": 4,
 "nbformat_minor": 0
}
